{
 "cells": [
  {
   "cell_type": "code",
   "execution_count": 2,
   "metadata": {},
   "outputs": [],
   "source": [
    "import pandas as pd\n",
    "house = pd.read_csv('https://raw.githubusercontent.com/we-b/datasets_for_ai/master/cal_house.csv')"
   ]
  },
  {
   "cell_type": "code",
   "execution_count": 3,
   "metadata": {},
   "outputs": [
    {
     "data": {
      "text/html": [
       "<div>\n",
       "<style scoped>\n",
       "    .dataframe tbody tr th:only-of-type {\n",
       "        vertical-align: middle;\n",
       "    }\n",
       "\n",
       "    .dataframe tbody tr th {\n",
       "        vertical-align: top;\n",
       "    }\n",
       "\n",
       "    .dataframe thead th {\n",
       "        text-align: right;\n",
       "    }\n",
       "</style>\n",
       "<table border=\"1\" class=\"dataframe\">\n",
       "  <thead>\n",
       "    <tr style=\"text-align: right;\">\n",
       "      <th></th>\n",
       "      <th>housing_median_age</th>\n",
       "      <th>total_rooms</th>\n",
       "      <th>total_bedrooms</th>\n",
       "      <th>population</th>\n",
       "      <th>households</th>\n",
       "      <th>median_income</th>\n",
       "      <th>median_house_value</th>\n",
       "    </tr>\n",
       "  </thead>\n",
       "  <tbody>\n",
       "    <tr>\n",
       "      <th>0</th>\n",
       "      <td>41</td>\n",
       "      <td>880</td>\n",
       "      <td>129</td>\n",
       "      <td>322</td>\n",
       "      <td>126</td>\n",
       "      <td>8.3252</td>\n",
       "      <td>45.26</td>\n",
       "    </tr>\n",
       "    <tr>\n",
       "      <th>1</th>\n",
       "      <td>21</td>\n",
       "      <td>7099</td>\n",
       "      <td>1106</td>\n",
       "      <td>2401</td>\n",
       "      <td>1138</td>\n",
       "      <td>8.3014</td>\n",
       "      <td>35.85</td>\n",
       "    </tr>\n",
       "    <tr>\n",
       "      <th>2</th>\n",
       "      <td>52</td>\n",
       "      <td>1467</td>\n",
       "      <td>190</td>\n",
       "      <td>496</td>\n",
       "      <td>177</td>\n",
       "      <td>7.2574</td>\n",
       "      <td>35.21</td>\n",
       "    </tr>\n",
       "    <tr>\n",
       "      <th>3</th>\n",
       "      <td>52</td>\n",
       "      <td>1274</td>\n",
       "      <td>235</td>\n",
       "      <td>558</td>\n",
       "      <td>219</td>\n",
       "      <td>5.6431</td>\n",
       "      <td>34.13</td>\n",
       "    </tr>\n",
       "    <tr>\n",
       "      <th>4</th>\n",
       "      <td>52</td>\n",
       "      <td>1627</td>\n",
       "      <td>280</td>\n",
       "      <td>565</td>\n",
       "      <td>259</td>\n",
       "      <td>3.8462</td>\n",
       "      <td>34.22</td>\n",
       "    </tr>\n",
       "  </tbody>\n",
       "</table>\n",
       "</div>"
      ],
      "text/plain": [
       "   housing_median_age  total_rooms  total_bedrooms  population  households  \\\n",
       "0                  41          880             129         322         126   \n",
       "1                  21         7099            1106        2401        1138   \n",
       "2                  52         1467             190         496         177   \n",
       "3                  52         1274             235         558         219   \n",
       "4                  52         1627             280         565         259   \n",
       "\n",
       "   median_income  median_house_value  \n",
       "0         8.3252               45.26  \n",
       "1         8.3014               35.85  \n",
       "2         7.2574               35.21  \n",
       "3         5.6431               34.13  \n",
       "4         3.8462               34.22  "
      ]
     },
     "execution_count": 3,
     "metadata": {},
     "output_type": "execute_result"
    }
   ],
   "source": [
    "house.head()"
   ]
  },
  {
   "cell_type": "code",
   "execution_count": 4,
   "metadata": {},
   "outputs": [],
   "source": [
    "X = house[['housing_median_age', 'total_rooms', 'total_bedrooms', 'population', 'households', 'median_income']]"
   ]
  },
  {
   "cell_type": "code",
   "execution_count": 5,
   "metadata": {},
   "outputs": [],
   "source": [
    "y = house['median_house_value']\n"
   ]
  },
  {
   "cell_type": "code",
   "execution_count": 6,
   "metadata": {},
   "outputs": [
    {
     "name": "stdout",
     "output_type": "stream",
     "text": [
      "(1000, 6)\n",
      "(1000,)\n",
      "     housing_median_age  total_rooms  total_bedrooms  population  households  \\\n",
      "0                    41          880             129         322         126   \n",
      "1                    21         7099            1106        2401        1138   \n",
      "2                    52         1467             190         496         177   \n",
      "3                    52         1274             235         558         219   \n",
      "4                    52         1627             280         565         259   \n",
      "5                    52          919             213         413         193   \n",
      "6                    52         2535             489        1094         514   \n",
      "7                    52         3104             687        1157         647   \n",
      "8                    42         2555             665        1206         595   \n",
      "9                    52         3549             707        1551         714   \n",
      "10                   52         2202             434         910         402   \n",
      "11                   52         3503             752        1504         734   \n",
      "12                   52         2491             474        1098         468   \n",
      "13                   52          696             191         345         174   \n",
      "14                   52         2643             626        1212         620   \n",
      "15                   50         1120             283         697         264   \n",
      "16                   52         1966             347         793         331   \n",
      "17                   52         1228             293         648         303   \n",
      "18                   50         2239             455         990         419   \n",
      "19                   52         1503             298         690         275   \n",
      "20                   40          751             184         409         166   \n",
      "21                   42         1639             367         929         366   \n",
      "22                   52         2436             541        1015         478   \n",
      "23                   52         1688             337         853         325   \n",
      "24                   52         2224             437        1006         422   \n",
      "25                   41          535             123         317         119   \n",
      "26                   49         1130             244         607         239   \n",
      "27                   52         1898             421        1102         397   \n",
      "28                   50         2082             492        1131         473   \n",
      "29                   52          729             160         395         155   \n",
      "..                  ...          ...             ...         ...         ...   \n",
      "970                  19         2034             288         852         295   \n",
      "971                  15         2130             273         876         285   \n",
      "972                   7         9540            1294        3926        1229   \n",
      "973                  29         2702             680        1360         642   \n",
      "974                  39          522             116         161         102   \n",
      "975                  52          775             134         315         123   \n",
      "976                   3         1565             464         769         461   \n",
      "977                  20         1309             184         514         172   \n",
      "978                  13         5519             833        2444         825   \n",
      "979                  10         4337             800        1813         743   \n",
      "980                  28         1812             294         853         278   \n",
      "981                   4         4719             741        1895         742   \n",
      "982                  14         4236             701        1833         663   \n",
      "983                  22         3634             664        1699         640   \n",
      "984                  27         1569             242         583         214   \n",
      "985                  13        13182            2074        4847        1950   \n",
      "986                  43          228              40          83          42   \n",
      "987                  47          127              23          51          21   \n",
      "988                  13         9621            1344        4389        1391   \n",
      "989                   4         6159            1510        2649        1241   \n",
      "990                  16         4290             554        1952         576   \n",
      "991                  26         1786             306         771         279   \n",
      "992                  32          404              74         144          58   \n",
      "993                  17         1671             352         729         252   \n",
      "994                  12         5608            1049        2595        1067   \n",
      "995                  11        12070            2220        5826        2125   \n",
      "996                  25          494              81         254          85   \n",
      "997                  22         5533             943        2474         910   \n",
      "998                  17         3956             639        2222         662   \n",
      "999                  12         1906             351         802         319   \n",
      "\n",
      "     median_income  \n",
      "0           8.3252  \n",
      "1           8.3014  \n",
      "2           7.2574  \n",
      "3           5.6431  \n",
      "4           3.8462  \n",
      "5           4.0368  \n",
      "6           3.6591  \n",
      "7           3.1200  \n",
      "8           2.0804  \n",
      "9           3.6912  \n",
      "10          3.2031  \n",
      "11          3.2705  \n",
      "12          3.0750  \n",
      "13          2.6736  \n",
      "14          1.9167  \n",
      "15          2.1250  \n",
      "16          2.7750  \n",
      "17          2.1202  \n",
      "18          1.9911  \n",
      "19          2.6033  \n",
      "20          1.3578  \n",
      "21          1.7135  \n",
      "22          1.7250  \n",
      "23          2.1806  \n",
      "24          2.6000  \n",
      "25          2.4038  \n",
      "26          2.4597  \n",
      "27          1.8080  \n",
      "28          1.6424  \n",
      "29          1.6875  \n",
      "..             ...  \n",
      "970         6.5285  \n",
      "971         7.2639  \n",
      "972         7.4353  \n",
      "973         3.1127  \n",
      "974         2.4896  \n",
      "975         5.0677  \n",
      "976         2.1187  \n",
      "977        10.9506  \n",
      "978         7.0691  \n",
      "979         5.5000  \n",
      "980         4.9879  \n",
      "981         6.8132  \n",
      "982         5.6399  \n",
      "983         4.1597  \n",
      "984         5.7519  \n",
      "985         5.6417  \n",
      "986        10.3203  \n",
      "987         4.3472  \n",
      "988         6.6827  \n",
      "989         3.6200  \n",
      "990         7.3588  \n",
      "991         5.7239  \n",
      "992         4.2083  \n",
      "993         6.1023  \n",
      "994         3.9864  \n",
      "995         4.8624  \n",
      "996         9.1531  \n",
      "997         4.7361  \n",
      "998         5.4324  \n",
      "999         4.9375  \n",
      "\n",
      "[1000 rows x 6 columns]\n",
      "0      45.26\n",
      "1      35.85\n",
      "2      35.21\n",
      "3      34.13\n",
      "4      34.22\n",
      "5      26.97\n",
      "6      29.92\n",
      "7      24.14\n",
      "8      22.67\n",
      "9      26.11\n",
      "10     28.15\n",
      "11     24.18\n",
      "12     21.35\n",
      "13     19.13\n",
      "14     15.92\n",
      "15     14.00\n",
      "16     15.25\n",
      "17     15.55\n",
      "18     15.87\n",
      "19     16.29\n",
      "20     14.75\n",
      "21     15.98\n",
      "22     11.39\n",
      "23      9.97\n",
      "24     13.26\n",
      "25     10.75\n",
      "26      9.38\n",
      "27     10.55\n",
      "28     10.89\n",
      "29     13.20\n",
      "       ...  \n",
      "970    30.04\n",
      "971    33.24\n",
      "972    38.98\n",
      "973    23.30\n",
      "974    23.85\n",
      "975    23.33\n",
      "976    23.13\n",
      "977    47.58\n",
      "978    39.32\n",
      "979    24.72\n",
      "980    22.94\n",
      "981    28.25\n",
      "982    30.06\n",
      "983    29.32\n",
      "984    27.85\n",
      "985    35.29\n",
      "986    40.00\n",
      "987    37.50\n",
      "988    31.37\n",
      "989    13.93\n",
      "990    32.75\n",
      "991    43.06\n",
      "992    12.50\n",
      "993    45.00\n",
      "994    20.02\n",
      "995    19.24\n",
      "996    41.88\n",
      "997    21.68\n",
      "998    21.55\n",
      "999    22.77\n",
      "Name: median_house_value, Length: 1000, dtype: float64\n"
     ]
    }
   ],
   "source": [
    "print(X.shape)\n",
    "print(y.shape)\n",
    "print(X)\n",
    "print(y)"
   ]
  },
  {
   "cell_type": "code",
   "execution_count": 7,
   "metadata": {},
   "outputs": [
    {
     "ename": "ModuleNotFoundError",
     "evalue": "No module named 'sklearn'",
     "output_type": "error",
     "traceback": [
      "\u001b[0;31m---------------------------------------------------------------------------\u001b[0m",
      "\u001b[0;31mModuleNotFoundError\u001b[0m                       Traceback (most recent call last)",
      "\u001b[0;32m<ipython-input-7-673e019d7f98>\u001b[0m in \u001b[0;36m<module>\u001b[0;34m\u001b[0m\n\u001b[1;32m      1\u001b[0m \u001b[0;31m# トレーニングデータとテストデータの分割の為の関数をインストール\u001b[0m\u001b[0;34m\u001b[0m\u001b[0;34m\u001b[0m\u001b[0;34m\u001b[0m\u001b[0m\n\u001b[0;32m----> 2\u001b[0;31m \u001b[0;32mfrom\u001b[0m \u001b[0msklearn\u001b[0m\u001b[0;34m.\u001b[0m\u001b[0mcross_validation\u001b[0m \u001b[0;32mimport\u001b[0m \u001b[0mtrain_test_split\u001b[0m\u001b[0;34m\u001b[0m\u001b[0;34m\u001b[0m\u001b[0m\n\u001b[0m\u001b[1;32m      3\u001b[0m \u001b[0;31m# トレーニングデータとテストデータを70%:30%の割合で分割\u001b[0m\u001b[0;34m\u001b[0m\u001b[0;34m\u001b[0m\u001b[0;34m\u001b[0m\u001b[0m\n\u001b[1;32m      4\u001b[0m \u001b[0mX_train\u001b[0m\u001b[0;34m,\u001b[0m \u001b[0mX_test\u001b[0m\u001b[0;34m,\u001b[0m \u001b[0my_train\u001b[0m\u001b[0;34m,\u001b[0m \u001b[0my_test\u001b[0m \u001b[0;34m=\u001b[0m \u001b[0mtrain_test_split\u001b[0m\u001b[0;34m(\u001b[0m\u001b[0mX\u001b[0m\u001b[0;34m,\u001b[0m \u001b[0my\u001b[0m\u001b[0;34m,\u001b[0m \u001b[0mtest_size\u001b[0m\u001b[0;34m=\u001b[0m\u001b[0;36m0.3\u001b[0m\u001b[0;34m)\u001b[0m\u001b[0;34m\u001b[0m\u001b[0;34m\u001b[0m\u001b[0m\n",
      "\u001b[0;31mModuleNotFoundError\u001b[0m: No module named 'sklearn'"
     ]
    }
   ],
   "source": [
    "# トレーニングデータとテストデータの分割の為の関数をインストール\n",
    "from sklearn.cross_validation import train_test_split\n",
    "# トレーニングデータとテストデータを70%:30%の割合で分割\n",
    "X_train, X_test, y_train, y_test = train_test_split(X, y, test_size=0.3)"
   ]
  },
  {
   "cell_type": "code",
   "execution_count": 8,
   "metadata": {},
   "outputs": [
    {
     "ename": "ModuleNotFoundError",
     "evalue": "No module named 'sklearn.cross_validation'",
     "output_type": "error",
     "traceback": [
      "\u001b[0;31m---------------------------------------------------------------------------\u001b[0m",
      "\u001b[0;31mModuleNotFoundError\u001b[0m                       Traceback (most recent call last)",
      "\u001b[0;32m<ipython-input-8-673e019d7f98>\u001b[0m in \u001b[0;36m<module>\u001b[0;34m\u001b[0m\n\u001b[1;32m      1\u001b[0m \u001b[0;31m# トレーニングデータとテストデータの分割の為の関数をインストール\u001b[0m\u001b[0;34m\u001b[0m\u001b[0;34m\u001b[0m\u001b[0;34m\u001b[0m\u001b[0m\n\u001b[0;32m----> 2\u001b[0;31m \u001b[0;32mfrom\u001b[0m \u001b[0msklearn\u001b[0m\u001b[0;34m.\u001b[0m\u001b[0mcross_validation\u001b[0m \u001b[0;32mimport\u001b[0m \u001b[0mtrain_test_split\u001b[0m\u001b[0;34m\u001b[0m\u001b[0;34m\u001b[0m\u001b[0m\n\u001b[0m\u001b[1;32m      3\u001b[0m \u001b[0;31m# トレーニングデータとテストデータを70%:30%の割合で分割\u001b[0m\u001b[0;34m\u001b[0m\u001b[0;34m\u001b[0m\u001b[0;34m\u001b[0m\u001b[0m\n\u001b[1;32m      4\u001b[0m \u001b[0mX_train\u001b[0m\u001b[0;34m,\u001b[0m \u001b[0mX_test\u001b[0m\u001b[0;34m,\u001b[0m \u001b[0my_train\u001b[0m\u001b[0;34m,\u001b[0m \u001b[0my_test\u001b[0m \u001b[0;34m=\u001b[0m \u001b[0mtrain_test_split\u001b[0m\u001b[0;34m(\u001b[0m\u001b[0mX\u001b[0m\u001b[0;34m,\u001b[0m \u001b[0my\u001b[0m\u001b[0;34m,\u001b[0m \u001b[0mtest_size\u001b[0m\u001b[0;34m=\u001b[0m\u001b[0;36m0.3\u001b[0m\u001b[0;34m)\u001b[0m\u001b[0;34m\u001b[0m\u001b[0;34m\u001b[0m\u001b[0m\n",
      "\u001b[0;31mModuleNotFoundError\u001b[0m: No module named 'sklearn.cross_validation'"
     ]
    }
   ],
   "source": [
    "# トレーニングデータとテストデータの分割の為の関数をインストール\n",
    "from sklearn.cross_validation import train_test_split\n",
    "# トレーニングデータとテストデータを70%:30%の割合で分割\n",
    "X_train, X_test, y_train, y_test = train_test_split(X, y, test_size=0.3)"
   ]
  },
  {
   "cell_type": "code",
   "execution_count": 9,
   "metadata": {},
   "outputs": [
    {
     "ename": "ModuleNotFoundError",
     "evalue": "No module named 'sklearn.cross_validation'",
     "output_type": "error",
     "traceback": [
      "\u001b[0;31m---------------------------------------------------------------------------\u001b[0m",
      "\u001b[0;31mModuleNotFoundError\u001b[0m                       Traceback (most recent call last)",
      "\u001b[0;32m<ipython-input-9-673e019d7f98>\u001b[0m in \u001b[0;36m<module>\u001b[0;34m\u001b[0m\n\u001b[1;32m      1\u001b[0m \u001b[0;31m# トレーニングデータとテストデータの分割の為の関数をインストール\u001b[0m\u001b[0;34m\u001b[0m\u001b[0;34m\u001b[0m\u001b[0;34m\u001b[0m\u001b[0m\n\u001b[0;32m----> 2\u001b[0;31m \u001b[0;32mfrom\u001b[0m \u001b[0msklearn\u001b[0m\u001b[0;34m.\u001b[0m\u001b[0mcross_validation\u001b[0m \u001b[0;32mimport\u001b[0m \u001b[0mtrain_test_split\u001b[0m\u001b[0;34m\u001b[0m\u001b[0;34m\u001b[0m\u001b[0m\n\u001b[0m\u001b[1;32m      3\u001b[0m \u001b[0;31m# トレーニングデータとテストデータを70%:30%の割合で分割\u001b[0m\u001b[0;34m\u001b[0m\u001b[0;34m\u001b[0m\u001b[0;34m\u001b[0m\u001b[0m\n\u001b[1;32m      4\u001b[0m \u001b[0mX_train\u001b[0m\u001b[0;34m,\u001b[0m \u001b[0mX_test\u001b[0m\u001b[0;34m,\u001b[0m \u001b[0my_train\u001b[0m\u001b[0;34m,\u001b[0m \u001b[0my_test\u001b[0m \u001b[0;34m=\u001b[0m \u001b[0mtrain_test_split\u001b[0m\u001b[0;34m(\u001b[0m\u001b[0mX\u001b[0m\u001b[0;34m,\u001b[0m \u001b[0my\u001b[0m\u001b[0;34m,\u001b[0m \u001b[0mtest_size\u001b[0m\u001b[0;34m=\u001b[0m\u001b[0;36m0.3\u001b[0m\u001b[0;34m)\u001b[0m\u001b[0;34m\u001b[0m\u001b[0;34m\u001b[0m\u001b[0m\n",
      "\u001b[0;31mModuleNotFoundError\u001b[0m: No module named 'sklearn.cross_validation'"
     ]
    }
   ],
   "source": [
    "# トレーニングデータとテストデータの分割の為の関数をインストール\n",
    "from sklearn.cross_validation import train_test_split\n",
    "# トレーニングデータとテストデータを70%:30%の割合で分割\n",
    "X_train, X_test, y_train, y_test = train_test_split(X, y, test_size=0.3)"
   ]
  },
  {
   "cell_type": "code",
   "execution_count": 10,
   "metadata": {},
   "outputs": [
    {
     "ename": "SyntaxError",
     "evalue": "invalid syntax (<ipython-input-10-2ba64cbb7597>, line 1)",
     "output_type": "error",
     "traceback": [
      "\u001b[0;36m  File \u001b[0;32m\"<ipython-input-10-2ba64cbb7597>\"\u001b[0;36m, line \u001b[0;32m1\u001b[0m\n\u001b[0;31m    conda install scikit-learn\u001b[0m\n\u001b[0m                ^\u001b[0m\n\u001b[0;31mSyntaxError\u001b[0m\u001b[0;31m:\u001b[0m invalid syntax\n"
     ]
    }
   ],
   "source": [
    "conda install scikit-learn"
   ]
  },
  {
   "cell_type": "code",
   "execution_count": 11,
   "metadata": {},
   "outputs": [
    {
     "ename": "ModuleNotFoundError",
     "evalue": "No module named 'sklearn.cross_validation'",
     "output_type": "error",
     "traceback": [
      "\u001b[0;31m---------------------------------------------------------------------------\u001b[0m",
      "\u001b[0;31mModuleNotFoundError\u001b[0m                       Traceback (most recent call last)",
      "\u001b[0;32m<ipython-input-11-673e019d7f98>\u001b[0m in \u001b[0;36m<module>\u001b[0;34m\u001b[0m\n\u001b[1;32m      1\u001b[0m \u001b[0;31m# トレーニングデータとテストデータの分割の為の関数をインストール\u001b[0m\u001b[0;34m\u001b[0m\u001b[0;34m\u001b[0m\u001b[0;34m\u001b[0m\u001b[0m\n\u001b[0;32m----> 2\u001b[0;31m \u001b[0;32mfrom\u001b[0m \u001b[0msklearn\u001b[0m\u001b[0;34m.\u001b[0m\u001b[0mcross_validation\u001b[0m \u001b[0;32mimport\u001b[0m \u001b[0mtrain_test_split\u001b[0m\u001b[0;34m\u001b[0m\u001b[0;34m\u001b[0m\u001b[0m\n\u001b[0m\u001b[1;32m      3\u001b[0m \u001b[0;31m# トレーニングデータとテストデータを70%:30%の割合で分割\u001b[0m\u001b[0;34m\u001b[0m\u001b[0;34m\u001b[0m\u001b[0;34m\u001b[0m\u001b[0m\n\u001b[1;32m      4\u001b[0m \u001b[0mX_train\u001b[0m\u001b[0;34m,\u001b[0m \u001b[0mX_test\u001b[0m\u001b[0;34m,\u001b[0m \u001b[0my_train\u001b[0m\u001b[0;34m,\u001b[0m \u001b[0my_test\u001b[0m \u001b[0;34m=\u001b[0m \u001b[0mtrain_test_split\u001b[0m\u001b[0;34m(\u001b[0m\u001b[0mX\u001b[0m\u001b[0;34m,\u001b[0m \u001b[0my\u001b[0m\u001b[0;34m,\u001b[0m \u001b[0mtest_size\u001b[0m\u001b[0;34m=\u001b[0m\u001b[0;36m0.3\u001b[0m\u001b[0;34m)\u001b[0m\u001b[0;34m\u001b[0m\u001b[0;34m\u001b[0m\u001b[0m\n",
      "\u001b[0;31mModuleNotFoundError\u001b[0m: No module named 'sklearn.cross_validation'"
     ]
    }
   ],
   "source": [
    "# トレーニングデータとテストデータの分割の為の関数をインストール\n",
    "from sklearn.cross_validation import train_test_split\n",
    "# トレーニングデータとテストデータを70%:30%の割合で分割\n",
    "X_train, X_test, y_train, y_test = train_test_split(X, y, test_size=0.3)"
   ]
  },
  {
   "cell_type": "code",
   "execution_count": 12,
   "metadata": {},
   "outputs": [],
   "source": [
    "from sklearn.model_selection import train_test_split\n",
    "X_train, X_test, y_train, y_test = train_test_split(X, y, test_size=0.3)"
   ]
  },
  {
   "cell_type": "code",
   "execution_count": 13,
   "metadata": {},
   "outputs": [
    {
     "name": "stdout",
     "output_type": "stream",
     "text": [
      "(700, 6)\n",
      "(700,)\n",
      "(300, 6)\n",
      "(300,)\n"
     ]
    }
   ],
   "source": [
    "# トレーニングデータのshapeを確認\n",
    "print(X_train.shape)\n",
    "print(y_train.shape)\n",
    "# テストデータのshapeを確認\n",
    "print(X_test.shape)\n",
    "print(y_test.shape)"
   ]
  },
  {
   "cell_type": "code",
   "execution_count": 14,
   "metadata": {},
   "outputs": [],
   "source": [
    "# 線形回帰モデルの読み込み\n",
    "from sklearn.linear_model import LinearRegression"
   ]
  },
  {
   "cell_type": "code",
   "execution_count": 15,
   "metadata": {},
   "outputs": [],
   "source": [
    "# 線形回帰モデルをインスタンス化\n",
    "lr = LinearRegression()"
   ]
  },
  {
   "cell_type": "code",
   "execution_count": 16,
   "metadata": {},
   "outputs": [
    {
     "data": {
      "text/plain": [
       "LinearRegression(copy_X=True, fit_intercept=True, n_jobs=None,\n",
       "         normalize=False)"
      ]
     },
     "execution_count": 16,
     "metadata": {},
     "output_type": "execute_result"
    }
   ],
   "source": [
    "# トレーニングデータにもとづいて学習\n",
    "lr.fit(X_train, y_train)"
   ]
  },
  {
   "cell_type": "code",
   "execution_count": 17,
   "metadata": {},
   "outputs": [
    {
     "name": "stdout",
     "output_type": "stream",
     "text": [
      "[ 9.02023159e-02  4.51183852e-04 -1.56353408e-03 -4.64644942e-03\n",
      "  1.41499679e-02  3.92534130e+00]\n",
      "1.2854192845476007\n"
     ]
    }
   ],
   "source": [
    " # 係数\n",
    "print(lr.coef_)\n",
    " # 切片 (誤差)\n",
    "print(lr.intercept_)"
   ]
  },
  {
   "cell_type": "code",
   "execution_count": 18,
   "metadata": {},
   "outputs": [
    {
     "name": "stdout",
     "output_type": "stream",
     "text": [
      "0.6184211251445431\n"
     ]
    }
   ],
   "source": [
    "# 決定係数(トレーニングデータの場合)\n",
    "print(lr.score(X_train, y_train))\n",
    "# → 0.638595183496"
   ]
  },
  {
   "cell_type": "code",
   "execution_count": 19,
   "metadata": {},
   "outputs": [
    {
     "name": "stdout",
     "output_type": "stream",
     "text": [
      "0.6547861600365041\n"
     ]
    }
   ],
   "source": [
    "# 決定係数(テストデータの場合)\n",
    "print(lr.score(X_test, y_test))\n",
    "# → 0.5565176860975114"
   ]
  },
  {
   "cell_type": "code",
   "execution_count": 20,
   "metadata": {},
   "outputs": [],
   "source": [
    "import numpy as np\n",
    "import matplotlib.pyplot as plt\n",
    "%matplotlib inline"
   ]
  },
  {
   "cell_type": "code",
   "execution_count": 21,
   "metadata": {},
   "outputs": [
    {
     "data": {
      "image/png": "[encoded data removed]",
      "text/plain": [
       "<Figure size 432x288 with 1 Axes>"
      ]
     },
     "metadata": {
      "needs_background": "light"
     },
     "output_type": "display_data"
    }
   ],
   "source": [
    "import numpy as np\n",
    "from scipy.stats import norm\n",
    "import matplotlib.pyplot as plt\n",
    "\n",
    "X_n = np.arange(-5,5,0.1)\n",
    "Y_n = norm.pdf(X_n,0,1) #平均0,標準偏差1\n",
    "\n",
    "plt.plot(X_n,Y_n,color='blue')\n",
    "plt.show()"
   ]
  },
  {
   "cell_type": "code",
   "execution_count": 22,
   "metadata": {},
   "outputs": [
    {
     "ename": "NameError",
     "evalue": "name 'create_toy_data' is not defined",
     "output_type": "error",
     "traceback": [
      "\u001b[0;31m---------------------------------------------------------------------------\u001b[0m",
      "\u001b[0;31mNameError\u001b[0m                                 Traceback (most recent call last)",
      "\u001b[0;32m<ipython-input-22-39971b79c7d5>\u001b[0m in \u001b[0;36m<module>\u001b[0;34m\u001b[0m\n\u001b[0;32m----> 1\u001b[0;31m \u001b[0mx\u001b[0m\u001b[0;34m,\u001b[0m \u001b[0mt\u001b[0m \u001b[0;34m=\u001b[0m \u001b[0mcreate_toy_data\u001b[0m\u001b[0;34m(\u001b[0m\u001b[0mfunc\u001b[0m\u001b[0;34m,\u001b[0m \u001b[0mlow\u001b[0m\u001b[0;34m=\u001b[0m\u001b[0;36m0\u001b[0m\u001b[0;34m,\u001b[0m \u001b[0mhigh\u001b[0m\u001b[0;34m=\u001b[0m\u001b[0;36m1\u001b[0m\u001b[0;34m,\u001b[0m \u001b[0msize\u001b[0m\u001b[0;34m=\u001b[0m\u001b[0;36m10\u001b[0m\u001b[0;34m,\u001b[0m \u001b[0msigma\u001b[0m\u001b[0;34m=\u001b[0m\u001b[0;36m0.25\u001b[0m\u001b[0;34m)\u001b[0m\u001b[0;34m\u001b[0m\u001b[0;34m\u001b[0m\u001b[0m\n\u001b[0m\u001b[1;32m      2\u001b[0m \u001b[0mplt\u001b[0m\u001b[0;34m.\u001b[0m\u001b[0mscatter\u001b[0m\u001b[0;34m(\u001b[0m\u001b[0mx\u001b[0m\u001b[0;34m,\u001b[0m \u001b[0mt\u001b[0m\u001b[0;34m,\u001b[0m \u001b[0ms\u001b[0m\u001b[0;34m=\u001b[0m\u001b[0;36m50\u001b[0m\u001b[0;34m,\u001b[0m \u001b[0mmarker\u001b[0m\u001b[0;34m=\u001b[0m\u001b[0;34m'o'\u001b[0m\u001b[0;34m,\u001b[0m \u001b[0malpha\u001b[0m\u001b[0;34m=\u001b[0m\u001b[0;36m0.5\u001b[0m\u001b[0;34m,\u001b[0m \u001b[0mlabel\u001b[0m\u001b[0;34m=\u001b[0m\u001b[0;34m\"observation\"\u001b[0m\u001b[0;34m)\u001b[0m\u001b[0;34m\u001b[0m\u001b[0;34m\u001b[0m\u001b[0m\n\u001b[1;32m      3\u001b[0m \u001b[0mplt\u001b[0m\u001b[0;34m.\u001b[0m\u001b[0mlegend\u001b[0m\u001b[0;34m(\u001b[0m\u001b[0;34m)\u001b[0m\u001b[0;34m\u001b[0m\u001b[0;34m\u001b[0m\u001b[0m\n\u001b[1;32m      4\u001b[0m \u001b[0mplt\u001b[0m\u001b[0;34m.\u001b[0m\u001b[0mshow\u001b[0m\u001b[0;34m(\u001b[0m\u001b[0;34m)\u001b[0m\u001b[0;34m\u001b[0m\u001b[0;34m\u001b[0m\u001b[0m\n",
      "\u001b[0;31mNameError\u001b[0m: name 'create_toy_data' is not defined"
     ]
    }
   ],
   "source": [
    "x, t = create_toy_data(func, low=0, high=1, size=10, sigma=0.25)\n",
    "plt.scatter(x, t, s=50, marker='o', alpha=0.5, label=\"observation\")\n",
    "plt.legend()\n",
    "plt.show()"
   ]
  },
  {
   "cell_type": "code",
   "execution_count": 23,
   "metadata": {},
   "outputs": [],
   "source": [
    "#y=sin(2πx)を定義\n",
    "def func(x):\n",
    "    return np.sin(2 * np.pi * x)    #sin(2πx)。np.piがπ。\n",
    "\n",
    "#分析用のダミーのデータ(x,t)を作成\n",
    "def create_toy_data(func, low=0, high=1, size=10, sigma=1.):\n",
    "    x = np.random.uniform(low, high, size)   #一様分布に従う、0~1の間にある数xをランダムに10個生成\n",
    "    t = func(x) + np.random.normal(scale=sigma, size=size)  #t=sin(2πx)+[平均0,標準偏差1の正規分布に従う乱数]となるtを10個生成\n",
    "    return x, t"
   ]
  },
  {
   "cell_type": "code",
   "execution_count": 24,
   "metadata": {},
   "outputs": [
    {
     "data": {
      "image/png": "[encoded data removed]",
      "text/plain": [
       "<Figure size 432x288 with 1 Axes>"
      ]
     },
     "metadata": {
      "needs_background": "light"
     },
     "output_type": "display_data"
    }
   ],
   "source": [
    "x, t = create_toy_data(func, low=0, high=1, size=10, sigma=0.25)\n",
    "plt.scatter(x, t, s=50, marker='o', alpha=0.5, label=\"observation\")\n",
    "plt.legend()\n",
    "plt.show()"
   ]
  },
  {
   "cell_type": "code",
   "execution_count": 25,
   "metadata": {},
   "outputs": [],
   "source": [
    "from sklearn.linear_model import LinearRegression\n",
    "from sklearn.preprocessing import PolynomialFeatures"
   ]
  },
  {
   "cell_type": "code",
   "execution_count": 26,
   "metadata": {},
   "outputs": [],
   "source": [
    "model = LinearRegression() "
   ]
  },
  {
   "cell_type": "code",
   "execution_count": 27,
   "metadata": {},
   "outputs": [
    {
     "data": {
      "text/plain": [
       "array([[0.08623738],\n",
       "       [0.96867023],\n",
       "       [0.01338919],\n",
       "       [0.44191206],\n",
       "       [0.23304752],\n",
       "       [0.8347507 ],\n",
       "       [0.53242037],\n",
       "       [0.3314987 ],\n",
       "       [0.80806185],\n",
       "       [0.25002745]])"
      ]
     },
     "execution_count": 27,
     "metadata": {},
     "output_type": "execute_result"
    }
   ],
   "source": [
    "#xの形式を変更\n",
    "x_r = x.reshape(-1,1)\n",
    "x_r"
   ]
  },
  {
   "cell_type": "code",
   "execution_count": 28,
   "metadata": {},
   "outputs": [
    {
     "data": {
      "text/plain": [
       "array([[1.00000000e+00, 8.62373772e-02, 7.43688523e-03, 6.41337477e-04,\n",
       "        5.53072620e-05, 4.76955322e-06],\n",
       "       [1.00000000e+00, 9.68670229e-01, 9.38322012e-01, 9.08924598e-01,\n",
       "        8.80448198e-01, 8.52863958e-01],\n",
       "       [1.00000000e+00, 1.33891880e-02, 1.79270356e-04, 2.40028451e-06,\n",
       "        3.21378607e-08, 4.30299860e-10],\n",
       "       [1.00000000e+00, 4.41912062e-01, 1.95286271e-01, 8.62993587e-02,\n",
       "        3.81367276e-02, 1.68530799e-02],\n",
       "       [1.00000000e+00, 2.33047523e-01, 5.43111478e-02, 1.26570784e-02,\n",
       "        2.94970077e-03, 6.87420458e-04],\n",
       "       [1.00000000e+00, 8.34750700e-01, 6.96808732e-01, 5.81661577e-01,\n",
       "        4.85542409e-01, 4.05306866e-01],\n",
       "       [1.00000000e+00, 5.32420374e-01, 2.83471454e-01, 1.50925978e-01,\n",
       "        8.03560655e-02, 4.27832064e-02],\n",
       "       [1.00000000e+00, 3.31498697e-01, 1.09891386e-01, 3.64288514e-02,\n",
       "        1.20761168e-02, 4.00321698e-03],\n",
       "       [1.00000000e+00, 8.08061850e-01, 6.52963954e-01, 5.27635261e-01,\n",
       "        4.26361925e-01, 3.44526806e-01],\n",
       "       [1.00000000e+00, 2.50027447e-01, 6.25137244e-02, 1.56301469e-02,\n",
       "        3.90796574e-03, 9.77098699e-04]])"
      ]
     },
     "execution_count": 28,
     "metadata": {},
     "output_type": "execute_result"
    }
   ],
   "source": [
    "poly = PolynomialFeatures(degree=5)\n",
    "X_train = poly.fit_transform(x_r) #fit_transform(x)によってxは[1,x,x^2,x^3,x^4,x^5]に変換されます\n",
    "X_train"
   ]
  },
  {
   "cell_type": "code",
   "execution_count": 29,
   "metadata": {},
   "outputs": [
    {
     "data": {
      "text/plain": [
       "LinearRegression(copy_X=True, fit_intercept=True, n_jobs=None,\n",
       "         normalize=False)"
      ]
     },
     "execution_count": 29,
     "metadata": {},
     "output_type": "execute_result"
    }
   ],
   "source": [
    "model.fit(X_train,t)"
   ]
  },
  {
   "cell_type": "code",
   "execution_count": 30,
   "metadata": {},
   "outputs": [
    {
     "ename": "SyntaxError",
     "evalue": "invalid syntax (<ipython-input-30-2f004ad3f26b>, line 1)",
     "output_type": "error",
     "traceback": [
      "\u001b[0;36m  File \u001b[0;32m\"<ipython-input-30-2f004ad3f26b>\"\u001b[0;36m, line \u001b[0;32m1\u001b[0m\n\u001b[0;31m    曲線を描画するために0.01刻みでx_testを作成\u001b[0m\n\u001b[0m                 ^\u001b[0m\n\u001b[0;31mSyntaxError\u001b[0m\u001b[0;31m:\u001b[0m invalid syntax\n"
     ]
    }
   ],
   "source": [
    "曲線を描画するために0.01刻みでx_testを作成\n",
    "x_test = np.linspace(0, 1, 100) #0~1までの区間に100個のデータを作成\n",
    "X_test = poly.transform(x_test.reshape(-1,1)) #X_trainの時と同様にデータの形式を整える"
   ]
  },
  {
   "cell_type": "code",
   "execution_count": 31,
   "metadata": {},
   "outputs": [],
   "source": [
    "#曲線を描画するために0.01刻みでx_testを作成\n",
    "x_test = np.linspace(0, 1, 100) #0~1までの区間に100個のデータを作成\n",
    "X_test = poly.transform(x_test.reshape(-1,1)) #X_trainの時と同様にデータの形式を整える\n"
   ]
  },
  {
   "cell_type": "code",
   "execution_count": 32,
   "metadata": {},
   "outputs": [
    {
     "data": {
      "image/png": "[encoded data removed]",
      "text/plain": [
       "<Figure size 432x288 with 1 Axes>"
      ]
     },
     "metadata": {
      "needs_background": "light"
     },
     "output_type": "display_data"
    }
   ],
   "source": [
    "pred_y=model.predict(X_test) #学習済みのモデルにX_testを代入したもの\n",
    "\n",
    "plt.scatter(x, t, s=50, marker='o', alpha=0.5, label=\"observation\") #上で描画した散布図\n",
    "plt.plot(x_test, func(x_test), color='blue', label=\"sin($2\\pi x$)\") #sin(2πx)の描画（青）\n",
    "plt.plot(x_test, pred_y, color='red', label=\"predict_mean\") #学習したモデルの描画（赤）\n",
    "plt.legend()\n",
    "plt.xlabel(\"x\")\n",
    "plt.ylabel(\"t\")\n",
    "plt.show()"
   ]
  },
  {
   "cell_type": "code",
   "execution_count": 33,
   "metadata": {},
   "outputs": [
    {
     "name": "stdout",
     "output_type": "stream",
     "text": [
      "[   0.           -1.34138768   41.5162596  -152.12288278  174.53726688\n",
      "  -62.98882328]\n",
      "0.5239782740368797\n",
      "0.9173588812378526\n"
     ]
    }
   ],
   "source": [
    "# 回帰係数\n",
    "print(model.coef_)\n",
    "\n",
    "# 切片 (誤差)\n",
    "print(model.intercept_)\n",
    "\n",
    "# 決定係数(回帰式のあてはまりの良さを表す)\n",
    "print(model.score(X_train, t))"
   ]
  },
  {
   "cell_type": "code",
   "execution_count": null,
   "metadata": {},
   "outputs": [],
   "source": []
  }
 ],
 "metadata": {
  "kernelspec": {
   "display_name": "Python 3",
   "language": "python",
   "name": "python3"
  },
  "language_info": {
   "codemirror_mode": {
    "name": "ipython",
    "version": 3
   },
   "file_extension": ".py",
   "mimetype": "text/x-python",
   "name": "python",
   "nbconvert_exporter": "python",
   "pygments_lexer": "ipython3",
   "version": "3.7.1"
  }
 },
 "nbformat": 4,
 "nbformat_minor": 2
}
